{
 "cells": [
  {
   "cell_type": "markdown",
   "metadata": {},
   "source": [
    "# Tutorial: Deep Life Sciences\n",
    "Welcome to DeepChem's introductory tutorial for the deep life sciences. This series of notebooks is step-by-step guide for you to get to know the new tools and techniques needed to do deep learning for the life sciences.\n",
    "\n",
    "**Scope:** This tutorial will encompass both the machine learning and data handling needed to build systems for the deep life sciences.\n",
    "\n",
    "## Outline\n",
    "* Part 1: The Basic Tools of the Deep Life Sciences\n",
    "* Part 2: Introduction to Molecular Data Handling\n",
    "* Part 3: Molecular Machine Learning\n",
    "* Part 4:\n",
    "\n",
    "## Why do the DeepChem Tutorial?\n",
    "\n",
    "**1) Career Advancement:** Applying AI in the life sciences is a booming\n",
    "industry at present. There are a host of newly funded startups and initiatives\n",
    "at large pharmaceutical and biotech companies centered around AI. Learning and\n",
    "mastering DeepChem will bring you to the forefront of this field and will\n",
    "prepare you to enter a career in this field.\n",
    "\n",
    "**2) Humanitarian Considerations:** Disease is the oldest cause of human\n",
    "suffering. From the dawn of human civilization, humans have suffered from pathogens,\n",
    "cancers, and neurological conditions. One of the greatest achievements of\n",
    "the last few centuries has been the development of effective treatments for\n",
    "many diseases. By mastering the skills in this tutorial, you will be able to\n",
    "stand on the shoulders of the giants of the past to help develop new\n",
    "medicine.\n",
    "\n",
    "**3) Lowering the Cost of Medicine:** The art of developing new medicine is\n",
    "currently an elite skill that can only be practiced by a small core of expert\n",
    "practitioners. By enabling the growth of open source tools for drug discovery,\n",
    "you can help democratize these skills and open up drug discovery to more\n",
    "competition. Increased competition can help drive down the cost of medicine.\n",
    "\n",
    "## Getting Extra Credit\n",
    "If you're excited about DeepChem and want to get more more involved, there's a couple of things that you can do right now:\n",
    "* Start DeepChem on GitHub! - https://github.com/deepchem/deepchem\n",
    "* Make a YouTube video teaching the contents of this notebook.\n",
    "\n",
    "\n",
    "## Part -1: Prerequisites\n",
    "\n",
    "This tutorial will assume some basic familiarity with the Python data science ecosystem. We will assume that you have familiarity with libraries such as Numpy, Pandas, and TensorFlow.\n",
    "\n",
    "## Part 0: Setup\n",
    "The first step is to get DeepChem up and running. We recommend using conda for now to do this install.\n",
    "```\n",
    "conda install -c deepchem -c rdkit -c conda-forge -c omnia deepchem=2.1.0\n",
    "```"
   ]
  },
  {
   "cell_type": "code",
   "execution_count": 1,
   "metadata": {},
   "outputs": [
    {
     "name": "stderr",
     "output_type": "stream",
     "text": [
      "/home/bharath/anaconda3/envs/deepchem/lib/python3.5/site-packages/sklearn/ensemble/weight_boosting.py:29: DeprecationWarning: numpy.core.umath_tests is an internal NumPy module and should not be imported. It will be removed in a future NumPy release.\n",
      "  from numpy.core.umath_tests import inner1d\n"
     ]
    }
   ],
   "source": [
    "# Run this cell to see if things work\n",
    "import deepchem as dc"
   ]
  },
  {
   "cell_type": "markdown",
   "metadata": {},
   "source": [
    "## The Basic Tools of the Deep Life Sciences\n",
    "What does it take to do deep learning on the life sciences? Well, the first thing we'll need to do is actually handle some data. How can we start handling some basic data? For beginners, let's just take a look at some synthetic data.\n",
    "\n",
    "To generate some basic synthetic data, we will use Numpy to create some basic arrays."
   ]
  },
  {
   "cell_type": "code",
   "execution_count": 3,
   "metadata": {},
   "outputs": [],
   "source": [
    "import numpy as np\n",
    "\n",
    "data = np.random.random((4, 4))\n",
    "labels = np.random.random((4,)) # labels of size 20x1"
   ]
  },
  {
   "cell_type": "markdown",
   "metadata": {},
   "source": [
    "We've given these arrays some evocative names: \"data\" and \"labels.\" For now, don't worry too much about the names, but just note that the arrays have different shapes. Let's take a quick look to get a feeling for these arrays"
   ]
  },
  {
   "cell_type": "code",
   "execution_count": 4,
   "metadata": {},
   "outputs": [
    {
     "data": {
      "text/plain": [
       "(array([[0.17153735, 0.72653504, 0.75818459, 0.64997769],\n",
       "        [0.64356789, 0.37895973, 0.46143683, 0.3251195 ],\n",
       "        [0.51409105, 0.20522909, 0.29532684, 0.35239749],\n",
       "        [0.49242761, 0.62127102, 0.77898693, 0.90960543]]),\n",
       " array([0.01939268, 0.43336842, 0.91222562, 0.23498551]))"
      ]
     },
     "execution_count": 4,
     "metadata": {},
     "output_type": "execute_result"
    }
   ],
   "source": [
    "data, labels"
   ]
  },
  {
   "cell_type": "markdown",
   "metadata": {},
   "source": [
    "In order to be able to work with this data in DeepChem, we need to wrap these arrays so DeepChem knows how to work with them. DeepChem has a `Dataset` API that it uses to facilitate its handling of datasets. For handling of Numpy datasets, we use DeepChem's `NumpyDataset` object."
   ]
  },
  {
   "cell_type": "code",
   "execution_count": 6,
   "metadata": {},
   "outputs": [],
   "source": [
    "from deepchem.data.datasets import NumpyDataset\n",
    "\n",
    "dataset = NumpyDataset(data, labels)"
   ]
  },
  {
   "cell_type": "markdown",
   "metadata": {},
   "source": [
    "Ok, now what? We have these arrays in a `NumpyDataset` object. What can we do with it? Let's try printing out the object."
   ]
  },
  {
   "cell_type": "code",
   "execution_count": 7,
   "metadata": {},
   "outputs": [
    {
     "data": {
      "text/plain": [
       "<deepchem.data.datasets.NumpyDataset at 0x7ff02682c710>"
      ]
     },
     "execution_count": 7,
     "metadata": {},
     "output_type": "execute_result"
    }
   ],
   "source": [
    "dataset"
   ]
  },
  {
   "cell_type": "markdown",
   "metadata": {},
   "source": [
    "Ok, that's not terribly informative. It's telling us that `dataset` is a Python object that lives somewhere in memory. Can we recover the two datasets that we used to construct this object? Luckily, the DeepChem API allows us to recover the two original datasets by calling the `dataset.X` and `dataset.y` attributes of the original object."
   ]
  },
  {
   "cell_type": "code",
   "execution_count": 8,
   "metadata": {},
   "outputs": [
    {
     "data": {
      "text/plain": [
       "(array([[0.17153735, 0.72653504, 0.75818459, 0.64997769],\n",
       "        [0.64356789, 0.37895973, 0.46143683, 0.3251195 ],\n",
       "        [0.51409105, 0.20522909, 0.29532684, 0.35239749],\n",
       "        [0.49242761, 0.62127102, 0.77898693, 0.90960543]]),\n",
       " array([0.01939268, 0.43336842, 0.91222562, 0.23498551]))"
      ]
     },
     "execution_count": 8,
     "metadata": {},
     "output_type": "execute_result"
    }
   ],
   "source": [
    "dataset.X, dataset.y"
   ]
  },
  {
   "cell_type": "markdown",
   "metadata": {},
   "source": [
    "This set of transformations raises a few questions. First, what was the point of it all? Why would we want to wrap objects this way instead of working with the raw Numpy arrays? The simple answer is for have a unified API for working with larger datasets. Suppose that `X` and `y` are so large that they can't fit easily into memory. What would we do then? Being able to work with an abstract `dataset` object proves very convenient then. In fact, you'll have reason to use this feature of `Dataset` later in the tutorial series.\n",
    "\n",
    "What else can we do with the `dataset` object? It turns out that it can be useful to be able to walk through the datapoints in the `dataset` one at a time. For that, we can use the `dataset.itersamples()` method."
   ]
  },
  {
   "cell_type": "code",
   "execution_count": 9,
   "metadata": {},
   "outputs": [
    {
     "name": "stdout",
     "output_type": "stream",
     "text": [
      "[0.17153735 0.72653504 0.75818459 0.64997769] 0.019392679983928796\n",
      "[0.64356789 0.37895973 0.46143683 0.3251195 ] 0.43336841680990135\n",
      "[0.51409105 0.20522909 0.29532684 0.35239749] 0.9122256174354443\n",
      "[0.49242761 0.62127102 0.77898693 0.90960543] 0.23498551323364447\n"
     ]
    }
   ],
   "source": [
    "for x, y, _, _ in dataset.itersamples():\n",
    "    print(x, y)"
   ]
  },
  {
   "cell_type": "markdown",
   "metadata": {},
   "source": [
    "There are a couple of other fields that the `dataset` object tracks. The first is `dataset.ids`. This is a listing of unique identifiers for the datapoitns in the dataset."
   ]
  },
  {
   "cell_type": "code",
   "execution_count": 10,
   "metadata": {},
   "outputs": [
    {
     "data": {
      "text/plain": [
       "array([0, 1, 2, 3], dtype=object)"
      ]
     },
     "execution_count": 10,
     "metadata": {},
     "output_type": "execute_result"
    }
   ],
   "source": [
    "dataset.ids"
   ]
  },
  {
   "cell_type": "markdown",
   "metadata": {},
   "source": [
    "In addition, the `dataset` object has a field `dataset.w`. This is the \"example weight\" associated with each datapoint. Since we haven't explicitly assigned the weights, this is simply going to be all ones."
   ]
  },
  {
   "cell_type": "code",
   "execution_count": 12,
   "metadata": {},
   "outputs": [
    {
     "data": {
      "text/plain": [
       "array([1., 1., 1., 1.])"
      ]
     },
     "execution_count": 12,
     "metadata": {},
     "output_type": "execute_result"
    }
   ],
   "source": [
    "dataset.w"
   ]
  },
  {
   "cell_type": "markdown",
   "metadata": {},
   "source": [
    "Alright, we've seen some basic features. What if you want to learn more about `NumpyDataset`? You should check out our more in-depth [notebook](https://deepchem.io/docs/notebooks/Deepchem_NumpyDataset_tutorial.html) that goes into much more depth on how to work with `NumpyDataset` objects."
   ]
  }
 ],
 "metadata": {
  "kernelspec": {
   "display_name": "Python 3",
   "language": "python",
   "name": "python3"
  },
  "language_info": {
   "codemirror_mode": {
    "name": "ipython",
    "version": 3
   },
   "file_extension": ".py",
   "mimetype": "text/x-python",
   "name": "python",
   "nbconvert_exporter": "python",
   "pygments_lexer": "ipython3",
   "version": "3.5.5"
  }
 },
 "nbformat": 4,
 "nbformat_minor": 2
}
