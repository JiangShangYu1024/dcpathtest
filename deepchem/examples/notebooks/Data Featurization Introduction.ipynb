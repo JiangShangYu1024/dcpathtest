{
 "cells": [
  {
   "cell_type": "markdown",
   "metadata": {},
   "source": [
    "### Input Formats\n",
    "DeepChem supports a whole range of input files. For example, accepted input formats for deepchem include .csv, .sdf, .fasta, .png, .tif and other file formats. The loading for a particular file format is governed by `Loader` class associated with that format. For example, with a csv input, we use the `CSVLoader` class underneath the hood. Here's an example of a sample .csv file that fits the requirements of `CSVLoader`.\n",
    "\n",
    "1. A column containing SMILES strings [1].\n",
    "2. A column containing an experimental measurement.\n",
    "3. (Optional) A column containing a unique compound identifier.\n",
    "\n",
    "Here's an example of a potential input file.\n",
    "\n",
    "|Compound ID    | measured log solubility in mols per litre | smiles         |\n",
    "|---------------|-------------------------------------------|----------------|\n",
    "| benzothiazole | -1.5                                      | c2ccc1scnc1c2  |\n",
    "\n",
    "\n",
    "Here the \"smiles\" column contains the SMILES string, the \"measured log\n",
    "solubility in mols per litre\" contains the experimental measurement and\n",
    "\"Compound ID\" contains the unique compound identifier.\n",
    "\n",
    "[2] Anderson, Eric, Gilman D. Veith, and David Weininger. \"SMILES, a line\n",
    "notation and computerized interpreter for chemical structures.\" US\n",
    "Environmental Protection Agency, Environmental Research Laboratory, 1987.\n",
    "\n",
    "### Data Featurization \n",
    "\n",
    "Most machine learning algorithms require that input data form vectors. However, input data for drug-discovery datasets routinely come in the format of lists of molecules and associated experimental readouts. To       \n",
    "transform lists of molecules into vectors, we need to subclasses of DeepChem loader class ```dc.data.DataLoader``` such as ```dc.data.CSVLoader``` or ```dc.data.SDFLoader```. Users can subclass ```dc.data.DataLoader``` to\n",
    "load arbitrary file formats. All loaders must be passed a ```dc.feat.Featurizer``` object. DeepChem provides a number of different subclasses of ```dc.feat.Featurizer``` for convenience."
   ]
  }
 ],
 "metadata": {
  "kernelspec": {
   "display_name": "Python 3",
   "language": "python",
   "name": "python3"
  },
  "language_info": {
   "codemirror_mode": {
    "name": "ipython",
    "version": 3
   },
   "file_extension": ".py",
   "mimetype": "text/x-python",
   "name": "python",
   "nbconvert_exporter": "python",
   "pygments_lexer": "ipython3",
   "version": "3.5.5"
  }
 },
 "nbformat": 4,
 "nbformat_minor": 2
}
